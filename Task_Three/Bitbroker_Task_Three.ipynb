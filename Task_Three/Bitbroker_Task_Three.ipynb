{
 "cells": [
  {
   "cell_type": "code",
   "execution_count": 7,
   "metadata": {},
   "outputs": [
    {
     "data": {
      "text/html": [
       "<script type=\"text/javascript\">window.PlotlyConfig = {MathJaxConfig: 'local'};</script><script type=\"text/javascript\">if (window.MathJax) {MathJax.Hub.Config({SVG: {font: \"STIX-Web\"}});}</script><script>requirejs.config({paths: { 'plotly': ['https://cdn.plot.ly/plotly-latest.min']},});if(!window._Plotly) {require(['plotly'],function(plotly) {window._Plotly=plotly;});}</script>"
      ],
      "text/vnd.plotly.v1+html": [
       "<script type=\"text/javascript\">window.PlotlyConfig = {MathJaxConfig: 'local'};</script><script type=\"text/javascript\">if (window.MathJax) {MathJax.Hub.Config({SVG: {font: \"STIX-Web\"}});}</script><script>requirejs.config({paths: { 'plotly': ['https://cdn.plot.ly/plotly-latest.min']},});if(!window._Plotly) {require(['plotly'],function(plotly) {window._Plotly=plotly;});}</script>"
      ]
     },
     "metadata": {},
     "output_type": "display_data"
    }
   ],
   "source": [
    "import pandas as pd\n",
    "import numpy as np\n",
    "import matplotlib.pyplot as plt\n",
    "import seaborn as sns\n",
    "import collections\n",
    "import warnings\n",
    "\n",
    "from IPython.core.display import display, HTML\n",
    "from sklearn.preprocessing import MinMaxScaler\n",
    "    \n",
    "# import plotly \n",
    "import plotly\n",
    "import plotly.figure_factory as ff\n",
    "import plotly.graph_objs as go\n",
    "import plotly.offline as py\n",
    "import plotly.tools as tls\n",
    "\n",
    "# for color scales in plotly\n",
    "import colorlover as cl \n",
    "\n",
    "# configure things\n",
    "warnings.filterwarnings('ignore')\n",
    "\n",
    "pd.options.display.float_format = '{:,.2f}'.format  \n",
    "pd.options.display.max_columns = 999\n",
    "\n",
    "py.init_notebook_mode(connected=True)\n",
    "\n",
    "%load_ext autoreload\n",
    "%autoreload 2\n",
    "%matplotlib inline"
   ]
  },
  {
   "cell_type": "markdown",
   "metadata": {},
   "source": [
    "##Azure is not here for leack of wall time data."
   ]
  },
  {
   "cell_type": "code",
   "execution_count": 15,
   "metadata": {},
   "outputs": [
    {
     "data": {
      "text/html": [
       "<div>\n",
       "<style scoped>\n",
       "    .dataframe tbody tr th:only-of-type {\n",
       "        vertical-align: middle;\n",
       "    }\n",
       "\n",
       "    .dataframe tbody tr th {\n",
       "        vertical-align: top;\n",
       "    }\n",
       "\n",
       "    .dataframe thead th {\n",
       "        text-align: right;\n",
       "    }\n",
       "</style>\n",
       "<table border=\"1\" class=\"dataframe\">\n",
       "  <thead>\n",
       "    <tr style=\"text-align: right;\">\n",
       "      <th></th>\n",
       "      <th>Cloud</th>\n",
       "      <th>GPU</th>\n",
       "      <th>GPUs</th>\n",
       "      <th>GPU RAM</th>\n",
       "      <th>Cost Per Hour Per GPU</th>\n",
       "      <th>Preemptible GPU Price/3-y RI</th>\n",
       "      <th>Wall Time</th>\n",
       "      <th>Cost to Train</th>\n",
       "      <th>Use Discount Cost to Train</th>\n",
       "    </tr>\n",
       "  </thead>\n",
       "  <tbody>\n",
       "    <tr>\n",
       "      <th>0</th>\n",
       "      <td>Google Cloud Compute Engine</td>\n",
       "      <td>GCP P100</td>\n",
       "      <td>1</td>\n",
       "      <td>16.00</td>\n",
       "      <td>1.46</td>\n",
       "      <td>0.43</td>\n",
       "      <td>5.32</td>\n",
       "      <td>0.13</td>\n",
       "      <td>0.04</td>\n",
       "    </tr>\n",
       "    <tr>\n",
       "      <th>1</th>\n",
       "      <td>Google Cloud Compute Engine</td>\n",
       "      <td>GCP K80</td>\n",
       "      <td>1</td>\n",
       "      <td>12.00</td>\n",
       "      <td>0.45</td>\n",
       "      <td>0.14</td>\n",
       "      <td>18.13</td>\n",
       "      <td>0.14</td>\n",
       "      <td>0.04</td>\n",
       "    </tr>\n",
       "    <tr>\n",
       "      <th>2</th>\n",
       "      <td>Google Cloud Compute Engine</td>\n",
       "      <td>GCP V100</td>\n",
       "      <td>1</td>\n",
       "      <td>16.00</td>\n",
       "      <td>2.48</td>\n",
       "      <td>0.74</td>\n",
       "      <td>3.83</td>\n",
       "      <td>0.16</td>\n",
       "      <td>0.05</td>\n",
       "    </tr>\n",
       "    <tr>\n",
       "      <th>3</th>\n",
       "      <td>Google Cloud Compute Engine</td>\n",
       "      <td>GCP P4</td>\n",
       "      <td>1</td>\n",
       "      <td>8.00</td>\n",
       "      <td>0.60</td>\n",
       "      <td>0.22</td>\n",
       "      <td>10.28</td>\n",
       "      <td>0.10</td>\n",
       "      <td>0.04</td>\n",
       "    </tr>\n",
       "    <tr>\n",
       "      <th>4</th>\n",
       "      <td>AWS EC2</td>\n",
       "      <td>AWS K80 (p2.xlarge)</td>\n",
       "      <td>1</td>\n",
       "      <td>nan</td>\n",
       "      <td>0.90</td>\n",
       "      <td>0.42</td>\n",
       "      <td>20.90</td>\n",
       "      <td>0.31</td>\n",
       "      <td>0.15</td>\n",
       "    </tr>\n",
       "    <tr>\n",
       "      <th>5</th>\n",
       "      <td>AWS EC2</td>\n",
       "      <td>AWS K80 x 8 (p2.8xlarge)</td>\n",
       "      <td>8</td>\n",
       "      <td>nan</td>\n",
       "      <td>7.20</td>\n",
       "      <td>3.40</td>\n",
       "      <td>16.12</td>\n",
       "      <td>1.93</td>\n",
       "      <td>0.91</td>\n",
       "    </tr>\n",
       "    <tr>\n",
       "      <th>6</th>\n",
       "      <td>AWS EC2</td>\n",
       "      <td>AWS V100 (p3.2xlarge)</td>\n",
       "      <td>1</td>\n",
       "      <td>16.00</td>\n",
       "      <td>3.06</td>\n",
       "      <td>1.05</td>\n",
       "      <td>3.85</td>\n",
       "      <td>0.20</td>\n",
       "      <td>0.07</td>\n",
       "    </tr>\n",
       "    <tr>\n",
       "      <th>7</th>\n",
       "      <td>AWS EC2</td>\n",
       "      <td>AWS V100 x 4 (p3.8xlarge)</td>\n",
       "      <td>1</td>\n",
       "      <td>64.00</td>\n",
       "      <td>12.24</td>\n",
       "      <td>4.19</td>\n",
       "      <td>2.97</td>\n",
       "      <td>0.61</td>\n",
       "      <td>0.21</td>\n",
       "    </tr>\n",
       "    <tr>\n",
       "      <th>8</th>\n",
       "      <td>Paperspace</td>\n",
       "      <td>Pasp Quadro P4000</td>\n",
       "      <td>8</td>\n",
       "      <td>30.00</td>\n",
       "      <td>0.51</td>\n",
       "      <td>nan</td>\n",
       "      <td>8.30</td>\n",
       "      <td>0.07</td>\n",
       "      <td>0.00</td>\n",
       "    </tr>\n",
       "  </tbody>\n",
       "</table>\n",
       "</div>"
      ],
      "text/plain": [
       "                         Cloud                        GPU  GPUs  GPU RAM   \\\n",
       "0  Google Cloud Compute Engine                   GCP P100     1     16.00   \n",
       "1  Google Cloud Compute Engine                    GCP K80     1     12.00   \n",
       "2  Google Cloud Compute Engine                   GCP V100     1     16.00   \n",
       "3  Google Cloud Compute Engine                     GCP P4     1      8.00   \n",
       "4                      AWS EC2        AWS K80 (p2.xlarge)     1       nan   \n",
       "5                      AWS EC2   AWS K80 x 8 (p2.8xlarge)     8       nan   \n",
       "6                      AWS EC2      AWS V100 (p3.2xlarge)     1     16.00   \n",
       "7                      AWS EC2  AWS V100 x 4 (p3.8xlarge)     1     64.00   \n",
       "8                   Paperspace          Pasp Quadro P4000     8     30.00   \n",
       "\n",
       "   Cost Per Hour Per GPU  Preemptible GPU Price/3-y RI  Wall Time  \\\n",
       "0                   1.46                          0.43       5.32   \n",
       "1                   0.45                          0.14      18.13   \n",
       "2                   2.48                          0.74       3.83   \n",
       "3                   0.60                          0.22      10.28   \n",
       "4                   0.90                          0.42      20.90   \n",
       "5                   7.20                          3.40      16.12   \n",
       "6                   3.06                          1.05       3.85   \n",
       "7                  12.24                          4.19       2.97   \n",
       "8                   0.51                           nan       8.30   \n",
       "\n",
       "   Cost to Train  Use Discount Cost to Train  \n",
       "0           0.13                        0.04  \n",
       "1           0.14                        0.04  \n",
       "2           0.16                        0.05  \n",
       "3           0.10                        0.04  \n",
       "4           0.31                        0.15  \n",
       "5           1.93                        0.91  \n",
       "6           0.20                        0.07  \n",
       "7           0.61                        0.21  \n",
       "8           0.07                        0.00  "
      ]
     },
     "execution_count": 15,
     "metadata": {},
     "output_type": "execute_result"
    }
   ],
   "source": [
    "df_orig = pd.read_csv(\n",
    "    'M:/A-bitbroker/Bitbroker_Task/Task_Three/clouds_providers.csv',\n",
    "    skiprows=0,\n",
    "    thousands=',',\n",
    ")\n",
    "df_orig"
   ]
  },
  {
   "cell_type": "code",
   "execution_count": 16,
   "metadata": {},
   "outputs": [],
   "source": [
    "df = df_orig.copy()"
   ]
  },
  {
   "cell_type": "code",
   "execution_count": 17,
   "metadata": {},
   "outputs": [
    {
     "data": {
      "text/html": [
       "<div>\n",
       "<style scoped>\n",
       "    .dataframe tbody tr th:only-of-type {\n",
       "        vertical-align: middle;\n",
       "    }\n",
       "\n",
       "    .dataframe tbody tr th {\n",
       "        vertical-align: top;\n",
       "    }\n",
       "\n",
       "    .dataframe thead th {\n",
       "        text-align: right;\n",
       "    }\n",
       "</style>\n",
       "<table border=\"1\" class=\"dataframe\">\n",
       "  <thead>\n",
       "    <tr style=\"text-align: right;\">\n",
       "      <th></th>\n",
       "      <th>Cloud</th>\n",
       "      <th>GPU</th>\n",
       "      <th>GPUs</th>\n",
       "      <th>GPU RAM</th>\n",
       "      <th>Cost Per Hour Per GPU</th>\n",
       "      <th>Preemptible GPU Price/3-y RI</th>\n",
       "      <th>Wall Time</th>\n",
       "      <th>Cost to Train</th>\n",
       "      <th>Use Discount Cost to Train</th>\n",
       "    </tr>\n",
       "  </thead>\n",
       "  <tbody>\n",
       "    <tr>\n",
       "      <th>8</th>\n",
       "      <td>Paperspace</td>\n",
       "      <td>Pasp Quadro P4000</td>\n",
       "      <td>8</td>\n",
       "      <td>30.00</td>\n",
       "      <td>0.51</td>\n",
       "      <td>nan</td>\n",
       "      <td>8.30</td>\n",
       "      <td>0.07</td>\n",
       "      <td>0.00</td>\n",
       "    </tr>\n",
       "    <tr>\n",
       "      <th>3</th>\n",
       "      <td>Google Cloud Compute Engine</td>\n",
       "      <td>GCP P4</td>\n",
       "      <td>1</td>\n",
       "      <td>8.00</td>\n",
       "      <td>0.60</td>\n",
       "      <td>0.22</td>\n",
       "      <td>10.28</td>\n",
       "      <td>0.10</td>\n",
       "      <td>0.04</td>\n",
       "    </tr>\n",
       "    <tr>\n",
       "      <th>0</th>\n",
       "      <td>Google Cloud Compute Engine</td>\n",
       "      <td>GCP P100</td>\n",
       "      <td>1</td>\n",
       "      <td>16.00</td>\n",
       "      <td>1.46</td>\n",
       "      <td>0.43</td>\n",
       "      <td>5.32</td>\n",
       "      <td>0.13</td>\n",
       "      <td>0.04</td>\n",
       "    </tr>\n",
       "    <tr>\n",
       "      <th>1</th>\n",
       "      <td>Google Cloud Compute Engine</td>\n",
       "      <td>GCP K80</td>\n",
       "      <td>1</td>\n",
       "      <td>12.00</td>\n",
       "      <td>0.45</td>\n",
       "      <td>0.14</td>\n",
       "      <td>18.13</td>\n",
       "      <td>0.14</td>\n",
       "      <td>0.04</td>\n",
       "    </tr>\n",
       "    <tr>\n",
       "      <th>2</th>\n",
       "      <td>Google Cloud Compute Engine</td>\n",
       "      <td>GCP V100</td>\n",
       "      <td>1</td>\n",
       "      <td>16.00</td>\n",
       "      <td>2.48</td>\n",
       "      <td>0.74</td>\n",
       "      <td>3.83</td>\n",
       "      <td>0.16</td>\n",
       "      <td>0.05</td>\n",
       "    </tr>\n",
       "  </tbody>\n",
       "</table>\n",
       "</div>"
      ],
      "text/plain": [
       "                         Cloud                GPU  GPUs  GPU RAM   \\\n",
       "8                   Paperspace  Pasp Quadro P4000     8     30.00   \n",
       "3  Google Cloud Compute Engine             GCP P4     1      8.00   \n",
       "0  Google Cloud Compute Engine           GCP P100     1     16.00   \n",
       "1  Google Cloud Compute Engine            GCP K80     1     12.00   \n",
       "2  Google Cloud Compute Engine           GCP V100     1     16.00   \n",
       "\n",
       "   Cost Per Hour Per GPU  Preemptible GPU Price/3-y RI  Wall Time  \\\n",
       "8                   0.51                           nan       8.30   \n",
       "3                   0.60                          0.22      10.28   \n",
       "0                   1.46                          0.43       5.32   \n",
       "1                   0.45                          0.14      18.13   \n",
       "2                   2.48                          0.74       3.83   \n",
       "\n",
       "   Cost to Train  Use Discount Cost to Train  \n",
       "8           0.07                        0.00  \n",
       "3           0.10                        0.04  \n",
       "0           0.13                        0.04  \n",
       "1           0.14                        0.04  \n",
       "2           0.16                        0.05  "
      ]
     },
     "execution_count": 17,
     "metadata": {},
     "output_type": "execute_result"
    }
   ],
   "source": [
    "df = df.sort_values(by = ['Cost to Train'])\n",
    "df.head(5)"
   ]
  },
  {
   "cell_type": "code",
   "execution_count": 18,
   "metadata": {},
   "outputs": [
    {
     "data": {
      "text/html": [
       "<div>\n",
       "<style scoped>\n",
       "    .dataframe tbody tr th:only-of-type {\n",
       "        vertical-align: middle;\n",
       "    }\n",
       "\n",
       "    .dataframe tbody tr th {\n",
       "        vertical-align: top;\n",
       "    }\n",
       "\n",
       "    .dataframe thead th {\n",
       "        text-align: right;\n",
       "    }\n",
       "</style>\n",
       "<table border=\"1\" class=\"dataframe\">\n",
       "  <thead>\n",
       "    <tr style=\"text-align: right;\">\n",
       "      <th></th>\n",
       "      <th>Cloud</th>\n",
       "      <th>GPU</th>\n",
       "      <th>GPUs</th>\n",
       "      <th>GPU RAM</th>\n",
       "      <th>Cost Per Hour Per GPU</th>\n",
       "      <th>Preemptible GPU Price/3-y RI</th>\n",
       "      <th>Wall Time</th>\n",
       "      <th>Cost to Train</th>\n",
       "      <th>Use Discount Cost to Train</th>\n",
       "    </tr>\n",
       "  </thead>\n",
       "  <tbody>\n",
       "    <tr>\n",
       "      <th>8</th>\n",
       "      <td>Paperspace</td>\n",
       "      <td>Pasp Quadro P4000</td>\n",
       "      <td>8</td>\n",
       "      <td>30.00</td>\n",
       "      <td>0.51</td>\n",
       "      <td>nan</td>\n",
       "      <td>8.30</td>\n",
       "      <td>0.07</td>\n",
       "      <td>0.00</td>\n",
       "    </tr>\n",
       "    <tr>\n",
       "      <th>3</th>\n",
       "      <td>Google Cloud Compute Engine</td>\n",
       "      <td>GCP P4</td>\n",
       "      <td>1</td>\n",
       "      <td>8.00</td>\n",
       "      <td>0.60</td>\n",
       "      <td>0.22</td>\n",
       "      <td>10.28</td>\n",
       "      <td>0.10</td>\n",
       "      <td>0.04</td>\n",
       "    </tr>\n",
       "    <tr>\n",
       "      <th>0</th>\n",
       "      <td>Google Cloud Compute Engine</td>\n",
       "      <td>GCP P100</td>\n",
       "      <td>1</td>\n",
       "      <td>16.00</td>\n",
       "      <td>1.46</td>\n",
       "      <td>0.43</td>\n",
       "      <td>5.32</td>\n",
       "      <td>0.13</td>\n",
       "      <td>0.04</td>\n",
       "    </tr>\n",
       "    <tr>\n",
       "      <th>1</th>\n",
       "      <td>Google Cloud Compute Engine</td>\n",
       "      <td>GCP K80</td>\n",
       "      <td>1</td>\n",
       "      <td>12.00</td>\n",
       "      <td>0.45</td>\n",
       "      <td>0.14</td>\n",
       "      <td>18.13</td>\n",
       "      <td>0.14</td>\n",
       "      <td>0.04</td>\n",
       "    </tr>\n",
       "    <tr>\n",
       "      <th>2</th>\n",
       "      <td>Google Cloud Compute Engine</td>\n",
       "      <td>GCP V100</td>\n",
       "      <td>1</td>\n",
       "      <td>16.00</td>\n",
       "      <td>2.48</td>\n",
       "      <td>0.74</td>\n",
       "      <td>3.83</td>\n",
       "      <td>0.16</td>\n",
       "      <td>0.05</td>\n",
       "    </tr>\n",
       "  </tbody>\n",
       "</table>\n",
       "</div>"
      ],
      "text/plain": [
       "                         Cloud                GPU  GPUs  GPU RAM   \\\n",
       "8                   Paperspace  Pasp Quadro P4000     8     30.00   \n",
       "3  Google Cloud Compute Engine             GCP P4     1      8.00   \n",
       "0  Google Cloud Compute Engine           GCP P100     1     16.00   \n",
       "1  Google Cloud Compute Engine            GCP K80     1     12.00   \n",
       "2  Google Cloud Compute Engine           GCP V100     1     16.00   \n",
       "\n",
       "   Cost Per Hour Per GPU  Preemptible GPU Price/3-y RI  Wall Time  \\\n",
       "8                   0.51                           nan       8.30   \n",
       "3                   0.60                          0.22      10.28   \n",
       "0                   1.46                          0.43       5.32   \n",
       "1                   0.45                          0.14      18.13   \n",
       "2                   2.48                          0.74       3.83   \n",
       "\n",
       "   Cost to Train  Use Discount Cost to Train  \n",
       "8           0.07                        0.00  \n",
       "3           0.10                        0.04  \n",
       "0           0.13                        0.04  \n",
       "1           0.14                        0.04  \n",
       "2           0.16                        0.05  "
      ]
     },
     "execution_count": 18,
     "metadata": {},
     "output_type": "execute_result"
    }
   ],
   "source": [
    "df_disc = df.sort_values(by = ['Use Discount Cost to Train'])\n",
    "df_disc.head(5)"
   ]
  },
  {
   "cell_type": "code",
   "execution_count": 19,
   "metadata": {},
   "outputs": [
    {
     "data": {
      "application/vnd.plotly.v1+json": {
       "config": {
        "linkText": "Export to plot.ly",
        "plotlyServerURL": "https://plot.ly",
        "showLink": false
       },
       "data": [
        {
         "marker": {
          "color": [
           50,
           68.75,
           87.5,
           106.25,
           125,
           143.75,
           162.5,
           181.25,
           200
          ],
          "colorscale": "Jet"
         },
         "type": "bar",
         "uid": "394e41d9-ac5f-412a-a46a-5ebdd776d48b",
         "x": [
          "Pasp Quadro P4000",
          "GCP P4",
          "GCP P100",
          "GCP K80",
          "GCP V100",
          "AWS V100 (p3.2xlarge)",
          "AWS K80 (p2.xlarge)",
          "AWS V100 x 4 (p3.8xlarge)",
          "AWS K80 x 8 (p2.8xlarge)"
         ],
         "y": [
          0.07055,
          0.1028,
          0.129453333,
          0.135975,
          0.15830666699999998,
          0.19635,
          0.3135,
          0.60588,
          1.9344
         ]
        }
       ],
       "layout": {
        "title": {
         "text": "Cost to Train"
        },
        "xaxis": {
         "tickmode": "linear",
         "title": {
          "text": "Cloud Software"
         }
        },
        "yaxis": {
         "title": {
          "text": "$ USD"
         }
        }
       }
      },
      "text/html": [
       "<div id=\"92d97819-6850-40c7-bad5-d96c953d0936\" style=\"height: 525px; width: 100%;\" class=\"plotly-graph-div\"></div><script type=\"text/javascript\">require([\"plotly\"], function(Plotly) { window.PLOTLYENV=window.PLOTLYENV || {};window.PLOTLYENV.BASE_URL=\"https://plot.ly\";\n",
       "if (document.getElementById(\"92d97819-6850-40c7-bad5-d96c953d0936\")) {\n",
       "    Plotly.newPlot(\"92d97819-6850-40c7-bad5-d96c953d0936\", [{\"marker\": {\"color\": [50.0, 68.75, 87.5, 106.25, 125.0, 143.75, 162.5, 181.25, 200.0], \"colorscale\": \"Jet\"}, \"x\": [\"Pasp Quadro P4000\", \"GCP P4\", \"GCP P100\", \"GCP K80\", \"GCP V100\", \"AWS V100 (p3.2xlarge)\", \"AWS K80 (p2.xlarge)\", \"AWS V100 x 4 (p3.8xlarge)\", \"AWS K80 x 8 (p2.8xlarge)\"], \"y\": [0.07055, 0.1028, 0.129453333, 0.135975, 0.15830666699999998, 0.19635, 0.3135, 0.60588, 1.9344], \"type\": \"bar\", \"uid\": \"394e41d9-ac5f-412a-a46a-5ebdd776d48b\"}], {\"title\": {\"text\": \"Cost to Train\"}, \"xaxis\": {\"tickmode\": \"linear\", \"title\": {\"text\": \"Cloud Software\"}}, \"yaxis\": {\"title\": {\"text\": \"$ USD\"}}}, {\"showLink\": false, \"linkText\": \"Export to plot.ly\", \"plotlyServerURL\": \"https://plot.ly\"}); \n",
       "}\n",
       "});</script><script type=\"text/javascript\">window.addEventListener(\"resize\", function(){if (document.getElementById(\"92d97819-6850-40c7-bad5-d96c953d0936\")) {window._Plotly.Plots.resize(document.getElementById(\"92d97819-6850-40c7-bad5-d96c953d0936\"));};})</script>"
      ],
      "text/vnd.plotly.v1+html": [
       "<div id=\"92d97819-6850-40c7-bad5-d96c953d0936\" style=\"height: 525px; width: 100%;\" class=\"plotly-graph-div\"></div><script type=\"text/javascript\">require([\"plotly\"], function(Plotly) { window.PLOTLYENV=window.PLOTLYENV || {};window.PLOTLYENV.BASE_URL=\"https://plot.ly\";\n",
       "if (document.getElementById(\"92d97819-6850-40c7-bad5-d96c953d0936\")) {\n",
       "    Plotly.newPlot(\"92d97819-6850-40c7-bad5-d96c953d0936\", [{\"marker\": {\"color\": [50.0, 68.75, 87.5, 106.25, 125.0, 143.75, 162.5, 181.25, 200.0], \"colorscale\": \"Jet\"}, \"x\": [\"Pasp Quadro P4000\", \"GCP P4\", \"GCP P100\", \"GCP K80\", \"GCP V100\", \"AWS V100 (p3.2xlarge)\", \"AWS K80 (p2.xlarge)\", \"AWS V100 x 4 (p3.8xlarge)\", \"AWS K80 x 8 (p2.8xlarge)\"], \"y\": [0.07055, 0.1028, 0.129453333, 0.135975, 0.15830666699999998, 0.19635, 0.3135, 0.60588, 1.9344], \"type\": \"bar\", \"uid\": \"394e41d9-ac5f-412a-a46a-5ebdd776d48b\"}], {\"title\": {\"text\": \"Cost to Train\"}, \"xaxis\": {\"tickmode\": \"linear\", \"title\": {\"text\": \"Cloud Software\"}}, \"yaxis\": {\"title\": {\"text\": \"$ USD\"}}}, {\"showLink\": false, \"linkText\": \"Export to plot.ly\", \"plotlyServerURL\": \"https://plot.ly\"}); \n",
       "}\n",
       "});</script><script type=\"text/javascript\">window.addEventListener(\"resize\", function(){if (document.getElementById(\"92d97819-6850-40c7-bad5-d96c953d0936\")) {window._Plotly.Plots.resize(document.getElementById(\"92d97819-6850-40c7-bad5-d96c953d0936\"));};})</script>"
      ]
     },
     "metadata": {},
     "output_type": "display_data"
    }
   ],
   "source": [
    "cmax=200\n",
    "cmin=50\n",
    "color_s = np.linspace(cmin, cmax, 9)\n",
    "\n",
    "data = [\n",
    "    go.Bar(\n",
    "        x=df.GPU,          \n",
    "        y=df['Cost to Train'],\n",
    "        marker=dict(\n",
    "            colorscale='Jet',\n",
    "            color=color_s,\n",
    "        ),\n",
    "    )\n",
    "]\n",
    "\n",
    "layout = {\n",
    "    'title': 'Cost to Train',\n",
    "    'xaxis': {'title': 'Cloud Software', 'tickmode': 'linear'},\n",
    "    'yaxis': {'title': \"$ USD\"}\n",
    "}\n",
    "\n",
    "fig = go.Figure(data=data, layout=layout)\n",
    "py.iplot(fig)"
   ]
  },
  {
   "cell_type": "code",
   "execution_count": 27,
   "metadata": {},
   "outputs": [
    {
     "data": {
      "application/vnd.plotly.v1+json": {
       "config": {
        "linkText": "Export to plot.ly",
        "plotlyServerURL": "https://plot.ly",
        "showLink": false
       },
       "data": [
        {
         "marker": {
          "color": [
           50,
           68.75,
           87.5,
           106.25,
           125,
           143.75,
           162.5,
           181.25,
           200
          ],
          "colorscale": "Jet"
         },
         "type": "bar",
         "uid": "a301851e-2bcc-41c0-830a-94875217f72c",
         "x": [
          "Pasp Quadro P4000",
          "GCP P4",
          "GCP P100",
          "GCP K80",
          "GCP V100",
          "AWS V100 (p3.2xlarge)",
          "AWS K80 (p2.xlarge)",
          "AWS V100 x 4 (p3.8xlarge)",
          "AWS K80 x 8 (p2.8xlarge)"
         ],
         "y": [
          0,
          0.037008,
          0.038126667,
          0.0407925,
          0.047236667,
          0.067375,
          0.148041667,
          0.207405,
          0.913466667
         ]
        }
       ],
       "layout": {
        "title": {
         "text": "Cost to Train(Use Discount)"
        },
        "xaxis": {
         "tickmode": "linear",
         "title": {
          "text": "Cloud Software"
         }
        },
        "yaxis": {
         "title": {
          "text": "$ USD"
         }
        }
       }
      },
      "text/html": [
       "<div id=\"8fc2a6a0-b38d-4c3d-b296-3a0dc59968b0\" style=\"height: 525px; width: 100%;\" class=\"plotly-graph-div\"></div><script type=\"text/javascript\">require([\"plotly\"], function(Plotly) { window.PLOTLYENV=window.PLOTLYENV || {};window.PLOTLYENV.BASE_URL=\"https://plot.ly\";\n",
       "if (document.getElementById(\"8fc2a6a0-b38d-4c3d-b296-3a0dc59968b0\")) {\n",
       "    Plotly.newPlot(\"8fc2a6a0-b38d-4c3d-b296-3a0dc59968b0\", [{\"marker\": {\"color\": [50.0, 68.75, 87.5, 106.25, 125.0, 143.75, 162.5, 181.25, 200.0], \"colorscale\": \"Jet\"}, \"x\": [\"Pasp Quadro P4000\", \"GCP P4\", \"GCP P100\", \"GCP K80\", \"GCP V100\", \"AWS V100 (p3.2xlarge)\", \"AWS K80 (p2.xlarge)\", \"AWS V100 x 4 (p3.8xlarge)\", \"AWS K80 x 8 (p2.8xlarge)\"], \"y\": [0.0, 0.037008, 0.038126667, 0.0407925, 0.047236667, 0.067375, 0.148041667, 0.207405, 0.913466667], \"type\": \"bar\", \"uid\": \"a301851e-2bcc-41c0-830a-94875217f72c\"}], {\"title\": {\"text\": \"Cost to Train(Use Discount)\"}, \"xaxis\": {\"tickmode\": \"linear\", \"title\": {\"text\": \"Cloud Software\"}}, \"yaxis\": {\"title\": {\"text\": \"$ USD\"}}}, {\"showLink\": false, \"linkText\": \"Export to plot.ly\", \"plotlyServerURL\": \"https://plot.ly\"}); \n",
       "}\n",
       "});</script><script type=\"text/javascript\">window.addEventListener(\"resize\", function(){if (document.getElementById(\"8fc2a6a0-b38d-4c3d-b296-3a0dc59968b0\")) {window._Plotly.Plots.resize(document.getElementById(\"8fc2a6a0-b38d-4c3d-b296-3a0dc59968b0\"));};})</script>"
      ],
      "text/vnd.plotly.v1+html": [
       "<div id=\"8fc2a6a0-b38d-4c3d-b296-3a0dc59968b0\" style=\"height: 525px; width: 100%;\" class=\"plotly-graph-div\"></div><script type=\"text/javascript\">require([\"plotly\"], function(Plotly) { window.PLOTLYENV=window.PLOTLYENV || {};window.PLOTLYENV.BASE_URL=\"https://plot.ly\";\n",
       "if (document.getElementById(\"8fc2a6a0-b38d-4c3d-b296-3a0dc59968b0\")) {\n",
       "    Plotly.newPlot(\"8fc2a6a0-b38d-4c3d-b296-3a0dc59968b0\", [{\"marker\": {\"color\": [50.0, 68.75, 87.5, 106.25, 125.0, 143.75, 162.5, 181.25, 200.0], \"colorscale\": \"Jet\"}, \"x\": [\"Pasp Quadro P4000\", \"GCP P4\", \"GCP P100\", \"GCP K80\", \"GCP V100\", \"AWS V100 (p3.2xlarge)\", \"AWS K80 (p2.xlarge)\", \"AWS V100 x 4 (p3.8xlarge)\", \"AWS K80 x 8 (p2.8xlarge)\"], \"y\": [0.0, 0.037008, 0.038126667, 0.0407925, 0.047236667, 0.067375, 0.148041667, 0.207405, 0.913466667], \"type\": \"bar\", \"uid\": \"a301851e-2bcc-41c0-830a-94875217f72c\"}], {\"title\": {\"text\": \"Cost to Train(Use Discount)\"}, \"xaxis\": {\"tickmode\": \"linear\", \"title\": {\"text\": \"Cloud Software\"}}, \"yaxis\": {\"title\": {\"text\": \"$ USD\"}}}, {\"showLink\": false, \"linkText\": \"Export to plot.ly\", \"plotlyServerURL\": \"https://plot.ly\"}); \n",
       "}\n",
       "});</script><script type=\"text/javascript\">window.addEventListener(\"resize\", function(){if (document.getElementById(\"8fc2a6a0-b38d-4c3d-b296-3a0dc59968b0\")) {window._Plotly.Plots.resize(document.getElementById(\"8fc2a6a0-b38d-4c3d-b296-3a0dc59968b0\"));};})</script>"
      ]
     },
     "metadata": {},
     "output_type": "display_data"
    }
   ],
   "source": [
    "cmax=200\n",
    "cmin=50\n",
    "color_s = np.linspace(cmin, cmax, 9)\n",
    "\n",
    "data = [\n",
    "    go.Bar(\n",
    "        x=df.GPU,          \n",
    "        y=df['Use Discount Cost to Train'],\n",
    "        marker=dict(\n",
    "            colorscale='Jet',\n",
    "            color=color_s,\n",
    "        ),\n",
    "    )\n",
    "]\n",
    "\n",
    "layout = {\n",
    "    'title': 'Cost to Train(Use Discount)',\n",
    "    'xaxis': {'title': 'Cloud Software', 'tickmode': 'linear'},\n",
    "    'yaxis': {'title': \"$ USD\"}\n",
    "}\n",
    "\n",
    "fig = go.Figure(data=data, layout=layout)\n",
    "py.iplot(fig)"
   ]
  },
  {
   "cell_type": "code",
   "execution_count": 34,
   "metadata": {},
   "outputs": [
    {
     "data": {
      "image/png": "[encoded data removed]",
      "text/plain": [
       "<Figure size 864x504 with 1 Axes>"
      ]
     },
     "metadata": {
      "needs_background": "light"
     },
     "output_type": "display_data"
    }
   ],
   "source": [
    "fig, ax = plt.subplots()\n",
    "\n",
    "sns.scatterplot(\n",
    "    data=df,\n",
    "    x=\"Wall Time\",\n",
    "    y=\"Cost to Train\",\n",
    "    hue=\"Cloud\", \n",
    "    legend=False,\n",
    "    s=100,\n",
    ")\n",
    "\n",
    "for item_num in range(0,df.shape[0]):\n",
    "     ax.text(\n",
    "         df['Wall Time'][item_num]+0.2, \n",
    "         df['Cost to Train'][item_num]-0.12, \n",
    "         df['GPU'][item_num], \n",
    "     )\n",
    "\n",
    "sns.despine()\n",
    "fig.set_size_inches(12, 7)\n",
    "\n",
    "ax.set_title('Cost per Hour vs Time to Train', fontsize=24)\n",
    "# ax.legend(loc='upper right', fontsize=16,)\n",
    "ax.set_xlabel('Time to Train (Minutes)',fontsize=16);\n",
    "ax.set_ylabel('Cost per Hour ($ USD)',fontsize=16);\n",
    "\n",
    "import matplotlib.ticker as mtick\n",
    "fmt = '${x:,.2f}'\n",
    "tick = mtick.StrMethodFormatter(fmt)\n",
    "ax.yaxis.set_major_formatter(tick) \n",
    "\n",
    "\n",
    "# https://stackoverflow.com/questions/38152356/matplotlib-dollar-sign-with-thousands-comma-tick-labels\n",
    "\n",
    "fig.savefig('cost_v_time.png')"
   ]
  },
  {
   "cell_type": "code",
   "execution_count": 33,
   "metadata": {},
   "outputs": [
    {
     "data": {
      "image/png": "[encoded data removed]",
      "text/plain": [
       "<Figure size 864x504 with 1 Axes>"
      ]
     },
     "metadata": {
      "needs_background": "light"
     },
     "output_type": "display_data"
    }
   ],
   "source": [
    "fig, ax = plt.subplots()\n",
    "\n",
    "sns.scatterplot(\n",
    "    data=df_disc,\n",
    "    x=\"Wall Time\",\n",
    "    y=\"Use Discount Cost to Train\",\n",
    "    hue=\"Cloud\", \n",
    "    legend=False,\n",
    "    s=100,\n",
    ")\n",
    "\n",
    "for item_num in range(0,df.shape[0]):\n",
    "     ax.text(\n",
    "         df['Wall Time'][item_num]+0.2, \n",
    "         df['Use Discount Cost to Train'][item_num]-0.12, \n",
    "         df['GPU'][item_num], \n",
    "     )\n",
    "\n",
    "sns.despine()\n",
    "fig.set_size_inches(12, 7)\n",
    "\n",
    "ax.set_title('Cost(Use Discount) vs Time to Train', fontsize=24)\n",
    "# ax.legend(loc='upper right', fontsize=16,)\n",
    "ax.set_xlabel('Time to Train (Minutes)',fontsize=16);\n",
    "ax.set_ylabel('Cost per Hour ($ USD)',fontsize=16);\n",
    "\n",
    "import matplotlib.ticker as mtick\n",
    "fmt = '${x:,.2f}'\n",
    "tick = mtick.StrMethodFormatter(fmt)\n",
    "ax.yaxis.set_major_formatter(tick) \n",
    "\n",
    "\n",
    "# https://stackoverflow.com/questions/38152356/matplotlib-dollar-sign-with-thousands-comma-tick-labels\n",
    "\n",
    "fig.savefig('cost_v_time.png')"
   ]
  },
  {
   "cell_type": "code",
   "execution_count": null,
   "metadata": {},
   "outputs": [],
   "source": []
  }
 ],
 "metadata": {
  "kernelspec": {
   "display_name": "Python 3",
   "language": "python",
   "name": "python3"
  },
  "language_info": {
   "codemirror_mode": {
    "name": "ipython",
    "version": 3
   },
   "file_extension": ".py",
   "mimetype": "text/x-python",
   "name": "python",
   "nbconvert_exporter": "python",
   "pygments_lexer": "ipython3",
   "version": "3.7.0"
  }
 },
 "nbformat": 4,
 "nbformat_minor": 2
}
