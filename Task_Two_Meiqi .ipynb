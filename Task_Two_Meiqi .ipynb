{
 "cells": [
  {
   "cell_type": "markdown",
   "metadata": {},
   "source": [
    "# Deep Learning 101"
   ]
  },
  {
   "cell_type": "markdown",
   "metadata": {},
   "source": [
    "<font color=black size=4>  </font>"
   ]
  },
  {
   "cell_type": "markdown",
   "metadata": {},
   "source": [
    "   \n",
    "   Deep learnig is a subset of machine learning. However, deep learning is designed to mimic human descision making abilities. Through the names of some common deep learning alorithms such as *recurrent neural network*, *convolutional network*, etc., we can see that deep learning tries to mimic biological strucature of human's neural network to help decision making and employ in any problems that need thought.    \n",
    "   \n",
    "   Most of deep learning algorithms are based on artificial neural network. There will list several types of deep learning common methods.   \n",
    "   1.Restricted Boltzmann Machine(it's not recommended in practical work using RBM only)   \n",
    "   2.Convolutional Neural Networks(it can be used in handle grid-like data)   \n",
    "   3.Recurrent Neural Networks(It can handle sequantial data and it has memory capability)    \n",
    "   4.Recursive Neural Networks(It has a tree-like structure and can be applied in text analysis, time series, etc,.)\n",
    "   6.Auto-encoder(It's like PCA and for dimiension reduction)    \n",
    "   \n",
    "   Different with shallow learning like SVM, deep learning have a higher performance when dataset get larger. Machine learning uses algorithms to parse data, learn from data, and make informed decisions based on what it has learned. Deep learning has a structure that contains input layer, hidden layer and output layer.The pic source is in the [link](https://www.google.com/search?q=deep+learning&rlz=1C1GYPO_enUS768US768&source=lnms&tbm=isch&sa=X&ved=0ahUKEwjW8aa-mvjgAhVOh-AKHSvyD_YQ_AUIDigB&biw=1163&bih=525#imgrc=wa1gP7UvfV9o4M:)   \n",
    "       \n",
    "   ![deep learning structure](0_0mia7BQKjUAuXeqZ.jpeg)\n",
    "        \n",
    "\n",
    "\n",
    "\n"
   ]
  },
  {
   "cell_type": "markdown",
   "metadata": {},
   "source": [
    "## Demo Code for Deep Learning:"
   ]
  },
  {
   "cell_type": "code",
   "execution_count": 2,
   "metadata": {},
   "outputs": [
    {
     "name": "stdout",
     "output_type": "stream",
     "text": [
      "WARNING:tensorflow:From C:\\Users\\liume\\Anaconda3\\lib\\site-packages\\tensorflow\\python\\ops\\resource_variable_ops.py:435: colocate_with (from tensorflow.python.framework.ops) is deprecated and will be removed in a future version.\n",
      "Instructions for updating:\n",
      "Colocations handled automatically by placer.\n",
      "WARNING:tensorflow:From C:\\Users\\liume\\Anaconda3\\lib\\site-packages\\tensorflow\\python\\keras\\layers\\core.py:143: calling dropout (from tensorflow.python.ops.nn_ops) with keep_prob is deprecated and will be removed in a future version.\n",
      "Instructions for updating:\n",
      "Please use `rate` instead of `keep_prob`. Rate should be set to `rate = 1 - keep_prob`.\n",
      "Epoch 1/5\n",
      "60000/60000 [==============================] - 26s 428us/sample - loss: 0.2203 - acc: 0.9342 \n",
      "Epoch 2/5\n",
      "60000/60000 [==============================] - 24s 396us/sample - loss: 0.0948 - acc: 0.9712\n",
      "Epoch 3/5\n",
      "60000/60000 [==============================] - 24s 405us/sample - loss: 0.0688 - acc: 0.9788\n",
      "Epoch 4/5\n",
      "60000/60000 [==============================] - 24s 401us/sample - loss: 0.0526 - acc: 0.9829\n",
      "Epoch 5/5\n",
      "60000/60000 [==============================] - 24s 403us/sample - loss: 0.0443 - acc: 0.9857\n",
      "10000/10000 [==============================] - 1s 97us/sample - loss: 0.0718 - acc: 0.9783\n"
     ]
    },
    {
     "data": {
      "text/plain": [
       "[0.07175514164440101, 0.9783]"
      ]
     },
     "execution_count": 2,
     "metadata": {},
     "output_type": "execute_result"
    }
   ],
   "source": [
    "import tensorflow as tf\n",
    "mnist = tf.keras.datasets.mnist\n",
    "\n",
    "(x_train, y_train),(x_test, y_test) = mnist.load_data()\n",
    "x_train, x_test = x_train / 255.0, x_test / 255.0\n",
    "\n",
    "model = tf.keras.models.Sequential([\n",
    "  tf.keras.layers.Flatten(input_shape=(28, 28)),\n",
    "  tf.keras.layers.Dense(512, activation=tf.nn.relu),\n",
    "  tf.keras.layers.Dropout(0.2),\n",
    "  tf.keras.layers.Dense(10, activation=tf.nn.softmax)\n",
    "])\n",
    "model.compile(optimizer='adam',\n",
    "              loss='sparse_categorical_crossentropy',\n",
    "              metrics=['accuracy'])\n",
    "\n",
    "model.fit(x_train, y_train, epochs=5)\n",
    "model.evaluate(x_test, y_test)"
   ]
  },
  {
   "cell_type": "code",
   "execution_count": 3,
   "metadata": {},
   "outputs": [
    {
     "name": "stdout",
     "output_type": "stream",
     "text": [
      "Epoch 1/5\n",
      "60000/60000 [==============================] - 22s 370us/sample - loss: 0.0362 - acc: 0.9882\n",
      "Epoch 2/5\n",
      "60000/60000 [==============================] - 26s 435us/sample - loss: 0.0313 - acc: 0.9898ETA:  - ETA: 0s - loss: 0.0313 - acc: 0.98\n",
      "Epoch 3/5\n",
      "60000/60000 [==============================] - 28s 462us/sample - loss: 0.0277 - acc: 0.9906\n",
      "Epoch 4/5\n",
      "60000/60000 [==============================] - 31s 521us/sample - loss: 0.0247 - acc: 0.9917\n",
      "Epoch 5/5\n",
      "60000/60000 [==============================] - 27s 444us/sample - loss: 0.0213 - acc: 0.9929\n"
     ]
    }
   ],
   "source": [
    "history = model.fit(x_train, y_train, epochs=5)"
   ]
  },
  {
   "cell_type": "code",
   "execution_count": 22,
   "metadata": {},
   "outputs": [
    {
     "data": {
      "image/png": "[encoded data removed]",
      "text/plain": [
       "<Figure size 432x288 with 1 Axes>"
      ]
     },
     "metadata": {
      "needs_background": "light"
     },
     "output_type": "display_data"
    }
   ],
   "source": [
    "plt.plot(history.history['loss'])\n",
    "plt.title(\"model loss\")\n",
    "plt.ylabel(\"loss\")\n",
    "plt.xlabel(\"epoch\")\n",
    "plt.legend([\"train\",\"test\"],loc=\"upper right\")\n",
    "plt.show()"
   ]
  },
  {
   "cell_type": "markdown",
   "metadata": {},
   "source": [
    "# Sentimental Analysis"
   ]
  },
  {
   "cell_type": "markdown",
   "metadata": {},
   "source": [
    "## Simple Method One:"
   ]
  },
  {
   "cell_type": "code",
   "execution_count": 4,
   "metadata": {},
   "outputs": [
    {
     "name": "stdout",
     "output_type": "stream",
     "text": [
      "News Tone Score: 0.1729187479187479\n",
      "News Tone Analysis: Positive\n"
     ]
    }
   ],
   "source": [
    "from textblob import TextBlob\n",
    "\n",
    "\n",
    "\n",
    "#Sentiment\n",
    "passage = '''ETHEREUM CREATOR: CRYPTO WALLETS SHOULD CHARGE TRANSACTION FEES\n",
    "In his view, the fee should be the smallest unit of Ethereum and should be a flat fee, rather than a percentage, so as not to “create a perverse incentive to not optimize gas fees.”\n",
    "\n",
    "He also thinks there should be a transaction threshold, such as 1 million gas used to send transactions within the wallet.$2 MILLION PER YEAR TO FUND WALLET DEVELOPMENT\n",
    "Buterin argues that the fee “would raise up to $2m/year in sustainable non-institutionally-biased market-based funding for client/wallet developers.” He’s not talking about mandatory fees, however. Wallet developers would have the option of continuing to charge zero fees.\n",
    "\n",
    "At a protocol level, Ethereum has to not circumvent these types of fees for the scheme to work. They would also attempt to make it easier to charge such fees via protocol development. He uses “ abstraction enabling multisends” as an example.\n",
    "\n",
    "Buterin says a fee this low would not bother most users. He also points out that it would essentially match grants given by the Ethereum Foundation.\n",
    "\n",
    "The idea didn’t receive the immediate praise that many of his proposals do.History shows that having any limit on a blockchain network will see that limit tested. The blocksize limit in Bitcoin was an issue of great contention. Would developers eventually feel the fees were too low? Would the fee structure encourage the development of new wallets, based on the fee as a funding model?Another issue that arose during the discussion was that not all clients are based on the wallet they’re using. Many nice clients use a separate back-end, but under the proposal, clients wouldn’t be eligible for the subsidy.\n",
    "\n",
    "The question of sustainable crypto software development is a long-standing one. Brilliant developers work on a volunteer basis to create software that enables the movement of billions of dollars. Even the largest blockchain development companies have limited resources when it comes to hiring people, while intellectual capital is also scarce.Not every blockchain design promotes “free-riding.” EOS, for example, has a fee associated with establishing an account, just like many bank accounts do. It’s one of several ways that EOS differentiates itself from Ethereum and other smart contract platforms. Steem, which is built on the same technology as EOS, occasionally has an account creation fee as well.\n",
    "\n",
    "This isn’t the first time Buterin has talked about additional fees for the network. Previously, he’s discussed implementing an EOS-style account creation fee as well as fees for storage on the network. The current average cost to send a transaction on the Ethereum network is less than 10 cents, according to Bitinfocharts.'''\n",
    "\n",
    "cleanedtext = passage\n",
    "analysis = TextBlob(cleanedtext) \n",
    "#print(analysis)\n",
    "sentiment = analysis.sentiment.polarity \n",
    "#print(sentiment)\n",
    "if sentiment >= 0: \n",
    "    polarity = 'Positive'\n",
    "else:\n",
    "    polarity = 'Negative'\n",
    "\n",
    "print(\"News Tone Score:\", sentiment)\n",
    "print(\"News Tone Analysis:\",polarity)"
   ]
  },
  {
   "cell_type": "markdown",
   "metadata": {},
   "source": [
    "## Simple Method Two:"
   ]
  },
  {
   "cell_type": "code",
   "execution_count": 8,
   "metadata": {},
   "outputs": [
    {
     "name": "stderr",
     "output_type": "stream",
     "text": [
      "C:\\Users\\liume\\Anaconda3\\lib\\site-packages\\nltk\\twitter\\__init__.py:20: UserWarning: The twython library has not been installed. Some functionality from the twitter package will not be available.\n",
      "  warnings.warn(\"The twython library has not been installed. \"\n"
     ]
    },
    {
     "name": "stdout",
     "output_type": "stream",
     "text": [
      "[nltk_data] Downloading package vader_lexicon to\n",
      "[nltk_data]     C:\\Users\\liume\\AppData\\Roaming\\nltk_data...\n",
      "[nltk_data]   Package vader_lexicon is already up-to-date!\n",
      "News Tone Score: 0.9898\n",
      "News Tone Analysis: Positive\n"
     ]
    }
   ],
   "source": [
    "import nltk\n",
    "from nltk.sentiment.vader import SentimentIntensityAnalyzer\n",
    "nltk.download('vader_lexicon')\n",
    "sia = SentimentIntensityAnalyzer()\n",
    "passage = '''ETHEREUM CREATOR: CRYPTO WALLETS SHOULD CHARGE TRANSACTION FEES\n",
    "In his view, the fee should be the smallest unit of Ethereum and should be a flat fee, rather than a percentage, so as not to “create a perverse incentive to not optimize gas fees.”\n",
    "\n",
    "He also thinks there should be a transaction threshold, such as 1 million gas used to send transactions within the wallet.$2 MILLION PER YEAR TO FUND WALLET DEVELOPMENT\n",
    "Buterin argues that the fee “would raise up to $2m/year in sustainable non-institutionally-biased market-based funding for client/wallet developers.” He’s not talking about mandatory fees, however. Wallet developers would have the option of continuing to charge zero fees.\n",
    "\n",
    "At a protocol level, Ethereum has to not circumvent these types of fees for the scheme to work. They would also attempt to make it easier to charge such fees via protocol development. He uses “ abstraction enabling multisends” as an example.\n",
    "\n",
    "Buterin says a fee this low would not bother most users. He also points out that it would essentially match grants given by the Ethereum Foundation.\n",
    "\n",
    "The idea didn’t receive the immediate praise that many of his proposals do.History shows that having any limit on a blockchain network will see that limit tested. The blocksize limit in Bitcoin was an issue of great contention. Would developers eventually feel the fees were too low? Would the fee structure encourage the development of new wallets, based on the fee as a funding model?Another issue that arose during the discussion was that not all clients are based on the wallet they’re using. Many nice clients use a separate back-end, but under the proposal, clients wouldn’t be eligible for the subsidy.\n",
    "\n",
    "The question of sustainable crypto software development is a long-standing one. Brilliant developers work on a volunteer basis to create software that enables the movement of billions of dollars. Even the largest blockchain development companies have limited resources when it comes to hiring people, while intellectual capital is also scarce.Not every blockchain design promotes “free-riding.” EOS, for example, has a fee associated with establishing an account, just like many bank accounts do. It’s one of several ways that EOS differentiates itself from Ethereum and other smart contract platforms. Steem, which is built on the same technology as EOS, occasionally has an account creation fee as well.\n",
    "\n",
    "This isn’t the first time Buterin has talked about additional fees for the network. Previously, he’s discussed implementing an EOS-style account creation fee as well as fees for storage on the network. The current average cost to send a transaction on the Ethereum network is less than 10 cents, according to Bitinfocharts.'''\n",
    "sentiment = sia.polarity_scores(passage)['compound']\n",
    "if sentiment >= 0: \n",
    "    polarity = 'Positive'\n",
    "else:\n",
    "    polarity = 'Negative'\n",
    "print(\"News Tone Score:\",sentiment)\n",
    "print(\"News Tone Analysis:\",polarity)"
   ]
  },
  {
   "cell_type": "markdown",
   "metadata": {},
   "source": [
    "# List of Best Trading:"
   ]
  },
  {
   "cell_type": "markdown",
   "metadata": {},
   "source": [
    "1.[Enygma Catalyst ](https://enigma.co/catalyst/)    \n",
    "2.[QuantConnect](https://www.quantconnect.com/):They offer live-trading integration with various names such as InteractiveBrokers, OANDA, and GDAX.   \n",
    "3.[CCTX](https://github.com/ccxt/ccxt): A JavaScript / Python / PHP cryptocurrency trading API with support for more than 130 bitcoin/altcoin exchanges.   \n",
    "4.[CoinAPI](https://www.coinapi.io/)    \n",
    "5.[Pair trading](https://en.wikipedia.org/wiki/Pairs_trade):It is a market neutral trading strategy enabling traders to profit from virtually any market conditions: uptrend, downtrend, or sideways movement. If we want to trade BTC-DASH, we can find another signal with high correlation with BTC-DASH. Through pair trading, we may be able to make profit.        \n",
    "\n",
    "6.[Triangular arbitrage](https://www.investopedia.com/terms/t/triangulararbitrage.asp):These opportunities are rare and traders who take advantage of them usually have advanced computer equipment and/or programs to automate the process. The trader would exchange an amount at one rate (BTC-USDT), convert it again (BTC-DASH) and then convert it finally back to the original (DASH-USDT), and assuming low transaction costs, net a profit.    \n",
    "\n",
    "7.Factor-based model or machine learning algorithms like SVM to train the history data and give the label of buy, sell. Trade using prediction buy or sell signal through APIs.\n"
   ]
  },
  {
   "cell_type": "code",
   "execution_count": null,
   "metadata": {},
   "outputs": [],
   "source": []
  }
 ],
 "metadata": {
  "kernelspec": {
   "display_name": "Python 3",
   "language": "python",
   "name": "python3"
  },
  "language_info": {
   "codemirror_mode": {
    "name": "ipython",
    "version": 3
   },
   "file_extension": ".py",
   "mimetype": "text/x-python",
   "name": "python",
   "nbconvert_exporter": "python",
   "pygments_lexer": "ipython3",
   "version": "3.7.0"
  }
 },
 "nbformat": 4,
 "nbformat_minor": 2
}
