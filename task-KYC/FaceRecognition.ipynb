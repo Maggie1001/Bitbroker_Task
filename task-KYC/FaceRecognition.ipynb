{
 "cells": [
  {
   "cell_type": "code",
   "execution_count": 1,
   "metadata": {},
   "outputs": [
    {
     "name": "stderr",
     "output_type": "stream",
     "text": [
      "Using TensorFlow backend.\n"
     ]
    }
   ],
   "source": [
    "#import the necessary packages\n",
    "from keras.models import Sequential\n",
    "from keras.layers import Conv2D, ZeroPadding2D, Activation, Input, concatenate\n",
    "from keras.models import Model\n",
    "from keras.layers.normalization import BatchNormalization\n",
    "from keras.layers.pooling import MaxPooling2D, AveragePooling2D\n",
    "from keras.layers.merge import Concatenate\n",
    "from keras.layers.core import Lambda, Flatten, Dense\n",
    "from keras.initializers import glorot_uniform\n",
    "from keras.engine.topology import Layer\n",
    "from keras import backend as K\n",
    "K.set_image_data_format('channels_first')\n",
    "import cv2\n",
    "import os\n",
    "import numpy as np\n",
    "from numpy import genfromtxt\n",
    "import pandas as pd\n",
    "import tensorflow as tf\n",
    "from fr_utils import *\n",
    "from inception_blocks import *\n",
    "import matplotlib.pyplot as plt\n",
    "import face_recognition\n",
    "from PIL import Image"
   ]
  },
  {
   "cell_type": "code",
   "execution_count": 2,
   "metadata": {},
   "outputs": [],
   "source": [
    "%matplotlib inline\n",
    "%load_ext autoreload\n",
    "%autoreload 2\n",
    "\n",
    "np.set_printoptions(threshold=np.nan)"
   ]
  },
  {
   "cell_type": "code",
   "execution_count": 8,
   "metadata": {},
   "outputs": [],
   "source": [
    "%reload_ext autoreload"
   ]
  },
  {
   "cell_type": "code",
   "execution_count": 2,
   "metadata": {},
   "outputs": [
    {
     "name": "stdout",
     "output_type": "stream",
     "text": [
      "Collecting opencv-python\n",
      "\u001b[?25l  Downloading https://files.pythonhosted.org/packages/7b/d2/a2dbf83d4553ca6b3701d91d75e42fe50aea97acdc00652dca515749fb5d/opencv_python-4.1.0.25-cp36-cp36m-manylinux1_x86_64.whl (26.6MB)\n",
      "\u001b[K    100% |████████████████████████████████| 26.6MB 1.7MB/s eta 0:00:01\n",
      "\u001b[?25hRequirement already satisfied: numpy>=1.11.3 in /home/partners/anaconda3/envs/py36/lib/python3.6/site-packages (from opencv-python) (1.14.5)\n",
      "Installing collected packages: opencv-python\n",
      "Successfully installed opencv-python-4.1.0.25\n"
     ]
    }
   ],
   "source": [
    "!pip install opencv-python"
   ]
  },
  {
   "cell_type": "code",
   "execution_count": 4,
   "metadata": {},
   "outputs": [
    {
     "name": "stdout",
     "output_type": "stream",
     "text": [
      "Collecting face_recognition\n",
      "  Using cached https://files.pythonhosted.org/packages/3f/ed/ad9a28042f373d4633fc8b49109b623597d6f193d3bbbef7780a5ee8eef2/face_recognition-1.2.3-py2.py3-none-any.whl\n",
      "Requirement already satisfied: face-recognition-models>=0.3.0 in /home/partners/anaconda3/envs/py36/lib/python3.6/site-packages (from face_recognition) (0.3.0)\n",
      "Requirement already satisfied: Click>=6.0 in /home/partners/anaconda3/envs/py36/lib/python3.6/site-packages (from face_recognition) (7.0)\n",
      "Requirement already satisfied: numpy in /home/partners/anaconda3/envs/py36/lib/python3.6/site-packages (from face_recognition) (1.14.5)\n",
      "Requirement already satisfied: Pillow in /home/partners/anaconda3/envs/py36/lib/python3.6/site-packages (from face_recognition) (5.4.1)\n",
      "Requirement already satisfied: dlib>=19.7 in /home/partners/anaconda3/envs/py36/lib/python3.6/site-packages (from face_recognition) (19.17.0)\n",
      "Installing collected packages: face-recognition\n",
      "Successfully installed face-recognition-1.2.3\n"
     ]
    }
   ],
   "source": [
    "!pip install face_recognition"
   ]
  },
  {
   "cell_type": "code",
   "execution_count": 4,
   "metadata": {},
   "outputs": [],
   "source": [
    "# Initialize the model\n",
    "# The model takes images with shape (3, 96, 96) 'channels first' \n",
    "K.set_image_data_format('channels_first')\n",
    "FRmodel = faceRecoModel(input_shape=(3, 96, 96))"
   ]
  },
  {
   "cell_type": "code",
   "execution_count": 3,
   "metadata": {},
   "outputs": [
    {
     "name": "stdout",
     "output_type": "stream",
     "text": [
      "2.1.6\n"
     ]
    }
   ],
   "source": [
    "import keras\n",
    "print(keras.__version__)"
   ]
  },
  {
   "cell_type": "code",
   "execution_count": 5,
   "metadata": {},
   "outputs": [],
   "source": [
    "# using triplets of images, for triplet loss function\n",
    "# anchor (A): picture of the person\n",
    "# positive (P): picture of the same person of the anchor image\n",
    "# negative (N): picture of a different person than the anchor image(person)\n",
    "# Goal: Individual's encoding should be closer to the positive image and further away from negative image by margin alpha\n",
    "\n",
    "def triplet_loss(y_true, y_pred, alpha = 0.2):\n",
    "    \"\"\"\n",
    "    Implementation of the triplet loss\n",
    "    \n",
    "    Arguments:\n",
    "    y_true -- true labels, required when you define a loss in Keras, you don't need it in this function.\n",
    "    y_pred -- python list containing three objects:\n",
    "            anchor -- the encodings for the anchor images, of shape (None, 128)\n",
    "            positive -- the encodings for the positive images, of shape (None, 128)\n",
    "            negative -- the encodings for the negative images, of shape (None, 128)\n",
    "    \n",
    "    Returns:\n",
    "    loss -- real number, value of the loss\n",
    "    \"\"\"\n",
    "    \n",
    "    anchor, positive, negative = y_pred[0], y_pred[1], y_pred[2]\n",
    "    \n",
    "    # (encoding) distance between the anchor and the positive\n",
    "    pos_dist = tf.square(tf.subtract(anchor, positive)) \n",
    "    # (encoding) distance between the anchor and the negative\n",
    "    neg_dist = tf.square(tf.subtract(anchor, negative)) \n",
    "    # Subtracting the two previous distances and adding an alpha.\n",
    "    basic_loss = tf.add(tf.reduce_sum(tf.subtract(pos_dist, neg_dist)), alpha)\n",
    "    # Taking the maximum of basic_loss and 0.0. Summing over the training examples.\n",
    "    loss = tf.reduce_sum(tf.maximum(basic_loss, 0))\n",
    "    \n",
    "    return loss"
   ]
  },
  {
   "cell_type": "code",
   "execution_count": 7,
   "metadata": {},
   "outputs": [],
   "source": [
    "# Compile the model\n",
    "FRmodel.compile(optimizer = 'adam', loss = triplet_loss, metrics = ['accuracy'])\n",
    "load_weights_from_FaceNet(FRmodel)"
   ]
  },
  {
   "cell_type": "code",
   "execution_count": 8,
   "metadata": {},
   "outputs": [],
   "source": [
    "#Function for resizing an image\n",
    "def pre_process_image(img, image_size):\n",
    "    \"\"\"\n",
    "    Resizes an image into given image_size (height, width, channel)\n",
    "    \n",
    "    Arguments:\n",
    "    img -- original image, array\n",
    "    image_size -- tuple containing width, height, channel of the image (h, w, c)\n",
    "    \n",
    "    Returns:\n",
    "    img -- resized image\n",
    "    \"\"\"\n",
    "    height, width, channels = image_size\n",
    "    img = cv2.resize(img, dsize=(height, width))\n",
    "    return img"
   ]
  },
  {
   "cell_type": "code",
   "execution_count": 9,
   "metadata": {},
   "outputs": [],
   "source": [
    "# Function for identifying face locations on an image\n",
    "\n",
    "def find_face_locations(image_path):\n",
    "    \"\"\"\n",
    "    returns the bounding box locations of the faces, image from the path\n",
    "    \n",
    "    Arguments:\n",
    "    image_path -- destination of the original image\n",
    "    image_size -- tuple containing width and height of the image (h, w)\n",
    "    \n",
    "    Returns:\n",
    "    (top, right, bottom, left), image -- bounding box\n",
    "    if multiple faces present in the picture returns a list of tuples, \n",
    "    image obtained from image_path\n",
    "    \"\"\"\n",
    "    \n",
    "    # Use face recognition module to detect faces\n",
    "    image = face_recognition.load_image_file(image_path)\n",
    "    \n",
    "    #Test: print(\"Shape of the image: \" + str(image.shape))\n",
    "    \n",
    "    face_locations = face_recognition.face_locations(image)\n",
    "    for face_location in face_locations:\n",
    "\n",
    "        # Print the location of each face in this image\n",
    "        top, right, bottom, left = face_location\n",
    "        print(\"A face is located at pixel location Top: {}, Left: {}, Bottom: {}, Right: {}\".format(top, left, bottom, right))\n",
    "    return face_locations, image"
   ]
  },
  {
   "cell_type": "markdown",
   "metadata": {},
   "source": [
    "### Image to embedding"
   ]
  },
  {
   "cell_type": "code",
   "execution_count": 11,
   "metadata": {},
   "outputs": [],
   "source": [
    "def face_img_to_encoding(image_path, model): \n",
    "    \"\"\"\n",
    "    returns the embedding vector of the specific image from the path\n",
    "    \n",
    "    Arguments:\n",
    "    image_path -- Destination of the original image\n",
    "    model -- Inception model instance in Keras\n",
    "    \n",
    "    Returns:\n",
    "    embeddings -- List containing embeddings of the people in the image\n",
    "    \"\"\"\n",
    "    \n",
    "    # obtain the face locations and the image\n",
    "    face_locations, image = find_face_locations(image_path)\n",
    "    \n",
    "    #initialize the embeddings list\n",
    "    embeddings = []\n",
    "    \n",
    "    #initialize embeddings list\n",
    "    for face_location in face_locations:\n",
    "\n",
    "        # Print the location of each face in this image\n",
    "        top, right, bottom, left = face_location\n",
    "\n",
    "        # access the actual face itself\n",
    "        face_image = image[top:bottom, left:right]\n",
    "        \n",
    "         # resize the cropped face image\n",
    "        image_size = (96, 96, 3)\n",
    "        img = pre_process_image(face_image, image_size)\n",
    "        \n",
    "        # pre-process the face image\n",
    "        img = img[...,::-1]\n",
    "        img = np.around(np.transpose(img, (2,0,1))/255.0, decimals=12)\n",
    "        x_train = np.array([img])\n",
    "        embedding = model.predict_on_batch(x_train)\n",
    "        embeddings.append(embedding)\n",
    "        \n",
    "    return embeddings"
   ]
  },
  {
   "cell_type": "code",
   "execution_count": 28,
   "metadata": {},
   "outputs": [
    {
     "name": "stdout",
     "output_type": "stream",
     "text": [
      "A face is located at pixel location Top: 142, Left: 82, Bottom: 409, Right: 349\n",
      "A face is located at pixel location Top: 66, Left: 56, Bottom: 156, Right: 145\n",
      "A face is located at pixel location Top: 167, Left: 241, Bottom: 390, Right: 464\n",
      "A face is located at pixel location Top: 82, Left: 24, Bottom: 211, Right: 153\n",
      "A face is located at pixel location Top: 56, Left: 91, Bottom: 163, Right: 199\n"
     ]
    }
   ],
   "source": [
    "# Create a initial database for identifying people\n",
    "database = {}\n",
    "database[\"leonardo dicaprio\"] = face_img_to_encoding(\"images/dicaprio.jpg\", FRmodel)\n",
    "database[\"brad pitt\"] = face_img_to_encoding(\"images/bradPitt1.jpg\", FRmodel)\n",
    "database[\"matt damon\"] = face_img_to_encoding(\"images/mattDamon.jpg\", FRmodel)\n",
    "database[\"robert downey\"] = face_img_to_encoding(\"images/robertdowney.jpg\", FRmodel)\n",
    "database[\"unknown\"] = face_img_to_encoding(\"images/unknown.jpg\", FRmodel)"
   ]
  },
  {
   "cell_type": "code",
   "execution_count": 27,
   "metadata": {},
   "outputs": [
    {
     "name": "stdout",
     "output_type": "stream",
     "text": [
      "A face is located at pixel location Top: 82, Left: 24, Bottom: 211, Right: 153\n",
      "[array([[ 0.07832187,  0.06682713, -0.04303091,  0.02284247, -0.03672897,\n",
      "         0.2106066 ,  0.02668497,  0.01187406, -0.01227099, -0.09639597,\n",
      "         0.1853287 ,  0.06186858,  0.11487298, -0.14900827, -0.11907037,\n",
      "        -0.10024217, -0.10556376,  0.10556167, -0.17671226,  0.15973037,\n",
      "         0.13674209, -0.0318465 , -0.03381598,  0.06489028, -0.07579378,\n",
      "        -0.10407998, -0.09642427, -0.11346978, -0.05311363,  0.07196679,\n",
      "        -0.00628607, -0.04401463, -0.03909201,  0.1288354 , -0.00685701,\n",
      "         0.04554148, -0.03900809,  0.00100832, -0.04932544,  0.00891713,\n",
      "         0.02895395, -0.10911831, -0.07068682,  0.07988145, -0.11212549,\n",
      "        -0.19839793,  0.08723467,  0.00811219, -0.16606516,  0.1569674 ,\n",
      "        -0.03991374, -0.06308354, -0.13102695,  0.09509274, -0.00599089,\n",
      "         0.03171436, -0.13636978,  0.03768923, -0.10310244, -0.06013446,\n",
      "        -0.07790923,  0.03831953,  0.23227534, -0.1510011 ,  0.01779915,\n",
      "        -0.09018466,  0.08678401, -0.06511188, -0.14153256,  0.02961316,\n",
      "         0.03761135, -0.03089503,  0.0285096 ,  0.04491466, -0.03175091,\n",
      "        -0.06390534,  0.00033694, -0.02495421, -0.02460675,  0.05687803,\n",
      "        -0.07680995, -0.02898341, -0.02127369, -0.04533245, -0.13683341,\n",
      "         0.17503507,  0.05439143, -0.07052751,  0.04850991,  0.07927996,\n",
      "         0.12363812, -0.27049553, -0.02517067,  0.03449699, -0.08058631,\n",
      "        -0.08659662, -0.1021833 , -0.0340614 , -0.06612496,  0.04015323,\n",
      "         0.01168901,  0.07170736, -0.08078345,  0.04815786,  0.03975363,\n",
      "         0.1468698 ,  0.01486927,  0.10554746, -0.12473039, -0.01026787,\n",
      "        -0.02373062,  0.01523568, -0.047652  ,  0.04173945, -0.0278113 ,\n",
      "         0.00117922, -0.01370434, -0.00558495,  0.0798908 ,  0.08095767,\n",
      "        -0.02729118, -0.09234461, -0.01398794,  0.10891137,  0.07560116,\n",
      "         0.01755436,  0.07200237, -0.01721205]], dtype=float32)]\n"
     ]
    },
    {
     "data": {
      "image/png": "[encoded data removed]",
      "text/plain": [
       "<Figure size 432x288 with 1 Axes>"
      ]
     },
     "metadata": {
      "needs_background": "light"
     },
     "output_type": "display_data"
    }
   ],
   "source": [
    "# Test for face_img_to_encoding\n",
    "embedding = face_img_to_encoding(\"images/robertdowney.jpg\", FRmodel)\n",
    "img = cv2.imread(\"images/robertdowney.jpg\")\n",
    "#Visualize the image\n",
    "plt.imshow(img)\n",
    "#Visualize the embedding\n",
    "print(embedding)"
   ]
  },
  {
   "cell_type": "markdown",
   "metadata": {},
   "source": [
    "### Face Verification"
   ]
  },
  {
   "cell_type": "code",
   "execution_count": 18,
   "metadata": {},
   "outputs": [],
   "source": [
    "def verify(image_path, identity, database, model):\n",
    "    # Encodings in the image. \n",
    "    encodings = face_img_to_encoding(image_path, FRmodel)\n",
    "    \n",
    "    #Loop inside encodings to obtain encoding of each person\n",
    "    for encoding in encodings:\n",
    "        # Step 2: Compute distance with identity's image \n",
    "        dist = np.linalg.norm(encoding - database[identity])\n",
    "    \n",
    "        # Step 3: Match if dist < 0.8\n",
    "        if dist < 0.8:\n",
    "            print(str(identity) + \", you are verified\")\n",
    "            match = True\n",
    "        else:\n",
    "            print(\"You're not \" + str(identity))\n",
    "            match = False\n",
    "        \n",
    "    return dist, match"
   ]
  },
  {
   "cell_type": "code",
   "execution_count": 32,
   "metadata": {},
   "outputs": [
    {
     "name": "stdout",
     "output_type": "stream",
     "text": [
      "A face is located at pixel location Top: 142, Left: 82, Bottom: 409, Right: 349\n",
      "You're not robert downey\n"
     ]
    },
    {
     "data": {
      "text/plain": [
       "(1.2241077, False)"
      ]
     },
     "execution_count": 32,
     "metadata": {},
     "output_type": "execute_result"
    }
   ],
   "source": [
    "verify(\"images/dicaprio.jpg\", \"robert downey\", database, FRmodel)"
   ]
  },
  {
   "cell_type": "code",
   "execution_count": 37,
   "metadata": {},
   "outputs": [
    {
     "name": "stdout",
     "output_type": "stream",
     "text": [
      "A face is located at pixel location Top: 53, Left: 38, Bottom: 182, Right: 167\n",
      "robert downey, you are verified\n"
     ]
    },
    {
     "data": {
      "text/plain": [
       "(0.63049084, True)"
      ]
     },
     "execution_count": 37,
     "metadata": {},
     "output_type": "execute_result"
    }
   ],
   "source": [
    "verify(\"images/robertdowney4.jpg\", \"robert downey\", database, FRmodel)"
   ]
  },
  {
   "cell_type": "code",
   "execution_count": null,
   "metadata": {},
   "outputs": [],
   "source": []
  }
 ],
 "metadata": {
  "kernelspec": {
   "display_name": "Python 3",
   "language": "python",
   "name": "python3"
  },
  "language_info": {
   "codemirror_mode": {
    "name": "ipython",
    "version": 3
   },
   "file_extension": ".py",
   "mimetype": "text/x-python",
   "name": "python",
   "nbconvert_exporter": "python",
   "pygments_lexer": "ipython3",
   "version": "3.6.8"
  }
 },
 "nbformat": 4,
 "nbformat_minor": 2
}
